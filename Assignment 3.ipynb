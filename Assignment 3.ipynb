{
 "cells": [
  {
   "cell_type": "code",
   "execution_count": 1,
   "id": "862358c4",
   "metadata": {},
   "outputs": [],
   "source": [
    "import numpy as np\n",
    "import matplotlib.pyplot as plt\n",
    "import databehandling.matlib as matlib"
   ]
  },
  {
   "cell_type": "code",
   "execution_count": 2,
   "id": "00e1e87f",
   "metadata": {},
   "outputs": [
    {
     "data": {
      "text/plain": [
       "[300.0, 600, 0]"
      ]
     },
     "execution_count": 2,
     "metadata": {},
     "output_type": "execute_result"
    }
   ],
   "source": [
    "# Parameters\n",
    "\n",
    "m1 = {'name': 'UDGRP', 'units': 'MPa-mm-Mg', 'rho': 2e-09, \n",
    "     'E1': 38000, 'E2': 8500, 'v12': 0.28, 'G12': 3400, \n",
    "     'XT': 1150, 'YT': 40, \"ZT\":1, \"ZC\":0, 'XC': 700, 'YC': 120, 'S12': 60, 'S23': 40, \"S13\":0, 'f12': -0.5}\n",
    "\n",
    "oppg_materiale = m1\n",
    "\n",
    "# Radius of pipe\n",
    "R = 75\n",
    "t = 10\n",
    "p_1 = 8        # Megapascal\n",
    "Fx_2 = 100000  # Netwons\n",
    "\n",
    "load_case_1 = [p_1*R*0.5, p_1*R, 0]\n",
    "load_case_2 = [10000/t,0,0]\n",
    "load_case_3 = [100000,0,0]\n",
    "load_case_1"
   ]
  },
  {
   "cell_type": "code",
   "execution_count": 3,
   "id": "3350ffc5",
   "metadata": {},
   "outputs": [],
   "source": [
    "# Functions\n",
    "\n",
    "def S2D(m):\n",
    "    return np.array([[        1/m['E1'], -m['v12']/m['E1'],          0],\n",
    "                     [-m['v12']/m['E1'],         1/m['E2'],          0],\n",
    "                     [                0,                 0, 1/m['G12']]], float)\n",
    "\n",
    "def Q2D(m):\n",
    "    S=S2D(m)\n",
    "    return np.linalg.inv(S)\n",
    "\n",
    "\n",
    "def T2Ds(a):\n",
    "    c,s = np.cos(np.radians(a)), np.sin(np.radians(a))\n",
    "    return np.array([[ c*c ,  s*s ,   2*c*s],\n",
    "                     [ s*s ,  c*c ,  -2*c*s],\n",
    "                     [-c*s,   c*s , c*c-s*s]], float)\n",
    "\n",
    "# Strain transform, global to local\n",
    "def T2De(a):\n",
    "    c,s = np.cos(np.radians(a)), np.sin(np.radians(a))\n",
    "    return np.array([[   c*c,   s*s,     c*s ],\n",
    "                     [   s*s,   c*c,    -c*s ],\n",
    "                     [-2*c*s, 2*c*s, c*c-s*s ]], float)\n",
    "\n",
    "def Q2Dtransform(Q,a):\n",
    "    return np.dot(np.linalg.inv( T2Ds(a) ) , np.dot(Q,T2De(a)) )\n",
    "\n",
    "def laminateThickness(layup):\n",
    "    return sum([layer['thi'] for layer in layup])\n",
    "\n",
    "def ff_fE(s, m):\n",
    "    \n",
    "    return max(s[0]/m[\"XT\"], -s[0]/m[\"XC\"])\n",
    "    \n",
    "\n",
    "\n",
    "def computeA(layup):\n",
    "    A=np.zeros((3,3),float)\n",
    "    hbot = -laminateThickness(layup)/2        # bottom of first layer\n",
    "    for layer in layup:\n",
    "        m = layer['mat']\n",
    "        Q = Q2D(m)\n",
    "        a = layer['ori']\n",
    "        Qt = Q2Dtransform(Q,a)\n",
    "        htop = hbot + layer['thi']   # top of current layer\n",
    "        A = A + Qt*(htop-hbot)\n",
    "        hbot=htop                    # for the next layer\n",
    "    return A\n",
    "\n",
    "def fE_hashin(s,m):\n",
    "    s1,s2,s3,s23,s13,s12=s[0],s[1],s[2],s[3],s[4],s[5]\n",
    "    XT,YT,ZT,XC,YC,ZC,S12,S13,S23 = m['XT'], m['YT'], m['ZT'], m['XC'], m['YC'], m['ZC'], m['S12'], m['S13'], m['S23']\n",
    "    if s1>0:\n",
    "        R = ( 1/( (s1/XT)**2 + (1/S12**2)*(s12**2 + s13**2) ) )**0.5\n",
    "        fE_FF=1/R\n",
    "    if s1<=0:\n",
    "        fE_FF=-s1/XC\n",
    "    if (s2+s3)>=0:\n",
    "        temp=( (1/YT**2)*(s2+s3)**2+(1/S23**2)*(s23**2-s2*s3)+(1/S12**2)*(s12**2+s13**2) )\n",
    "        if temp==0:\n",
    "            fE_IFF = 0\n",
    "        else:\n",
    "            R = (1/temp)**0.5\n",
    "            fE_IFF = 1/R\n",
    "    if (s2+s3)<0:\n",
    "        b = (1/YC)*((YC/(2*S23))**2-1)*(s2+s3)\n",
    "        a = (1/(4*S23**2))*(s2+s3)**2+(1/S23**2)*(s23**2-s2*s3)+(1/S12**2)*(s12**2+s13**2)\n",
    "        if a==0:\n",
    "            fE_IFF = 0.0\n",
    "        else:\n",
    "            c=-1\n",
    "            R=(-b+(b**2-4*a*c)**0.5)/(2*a)\n",
    "            fE_IFF = 1/R\n",
    "    return fE_FF, fE_IFF\n",
    "\n",
    "def solve_fE(layup, R, P, Fx, T):\n",
    "    A = computeA(layup)\n",
    "    t = laminateThickness(layup)\n",
    "    Nx=P*R/2\n",
    "    Ny=P*R\n",
    "    Nxy=0\n",
    "    load_case = [Nx, Ny, Nxy]\n",
    "    \n",
    "    strain = np.linalg.solve(A,load_case)\n",
    "    #print(\"strains:\", np.round(strains,5))\n",
    "    return strain"
   ]
  },
  {
   "cell_type": "code",
   "execution_count": 4,
   "id": "87482c20",
   "metadata": {},
   "outputs": [],
   "source": [
    "# Defining a layup\n",
    "def load_layups(theta1, theta2):\n",
    "    #theta1 = 90\n",
    "    #theta2 = 45\n",
    "    layup1 = [ {'mat':m1 , 'ori':  theta1  , 'thi':0.5} , \n",
    "               {'mat':m1 , 'ori':   -theta1 , 'thi':0.5} ]\n",
    "\n",
    "    layup2 = [ {'mat':m1 , 'ori':  theta1  , 'thi':0.25}, \n",
    "               {'mat':m1 , 'ori': -theta1  , 'thi':0.25},\n",
    "               {'mat':m1 , 'ori':  theta2  , 'thi':0.25}, \n",
    "               {'mat':m1 , 'ori': -theta2  , 'thi':0.25}]\n",
    "    return layup1, layup2"
   ]
  },
  {
   "cell_type": "code",
   "execution_count": 5,
   "id": "eb9088b4",
   "metadata": {},
   "outputs": [
    {
     "name": "stdout",
     "output_type": "stream",
     "text": [
      "layup1 [-0.00480918  0.03930847  0.        ]\n"
     ]
    }
   ],
   "source": [
    "# Case 1\n",
    "layup1, layup2 = load_layups(45,0)\n",
    "\n",
    "print(\"layup1\", solve_fE(layup1, 75, 8, 0, 0))\n",
    "#print(\"layup2\", solve_fE(layup2, 75, 8, 0, 0))"
   ]
  },
  {
   "cell_type": "code",
   "execution_count": 6,
   "id": "8a0e29b7",
   "metadata": {},
   "outputs": [
    {
     "name": "stdout",
     "output_type": "stream",
     "text": [
      "layup1 [0. 0. 0.]\n",
      "layup2 [0. 0. 0.]\n"
     ]
    }
   ],
   "source": [
    "# Case 2\n",
    "layup1, layup2 = load_layups(0,0)\n",
    "scale_t = 5\n",
    "print(\"layup1\", solve_fE(layup1, 75, 0, 100000, 0))\n",
    "print(\"layup2\", solve_fE(layup2, 75, 0, 100000, 0))\n",
    "\n"
   ]
  },
  {
   "cell_type": "code",
   "execution_count": 7,
   "id": "de350260",
   "metadata": {},
   "outputs": [
    {
     "ename": "NameError",
     "evalue": "name 'test_layup' is not defined",
     "output_type": "error",
     "traceback": [
      "\u001b[1;31m---------------------------------------------------------------------------\u001b[0m",
      "\u001b[1;31mNameError\u001b[0m                                 Traceback (most recent call last)",
      "Input \u001b[1;32mIn [7]\u001b[0m, in \u001b[0;36m<module>\u001b[1;34m\u001b[0m\n\u001b[0;32m     16\u001b[0m strains_global\u001b[38;5;241m=\u001b[39mnp\u001b[38;5;241m.\u001b[39mlinalg\u001b[38;5;241m.\u001b[39msolve(A,loads)\n\u001b[0;32m     18\u001b[0m \u001b[38;5;66;03m# Finding stresses in layer one of the laminate\u001b[39;00m\n\u001b[1;32m---> 19\u001b[0m layer1 \u001b[38;5;241m=\u001b[39m \u001b[43mtest_layup\u001b[49m[\u001b[38;5;241m0\u001b[39m]\n\u001b[0;32m     20\u001b[0m angle \u001b[38;5;241m=\u001b[39m layer1[\u001b[38;5;124m\"\u001b[39m\u001b[38;5;124mori\u001b[39m\u001b[38;5;124m\"\u001b[39m]\n\u001b[0;32m     22\u001b[0m strains_local \u001b[38;5;241m=\u001b[39m np\u001b[38;5;241m.\u001b[39mmatmul(T2De(angle), strains_global)\n",
      "\u001b[1;31mNameError\u001b[0m: name 'test_layup' is not defined"
     ]
    }
   ],
   "source": [
    "# Case from website, glass fiber composite\n",
    "\n",
    "m1=matlib.get('E-glass/Epoxy')\n",
    "test_layup1 = [{'mat':m1, 'ori':-45, 'thi':1.0},\n",
    "              {'mat':m1, 'ori':+45, 'thi':1.0}]\n",
    "test_layup2 = [{'mat':m1, 'ori':0, 'thi':1.0},\n",
    "              {'mat':m1, 'ori':0, 'thi':1.0}]\n",
    "\n",
    "A = computeA(test_layup1)\n",
    "R, P = 100, 2\n",
    "\n",
    "Nx=P*R/2\n",
    "Ny=P*R\n",
    "Nxy=0\n",
    "loads=[Nx,Ny,Nxy]\n",
    "strains_global=np.linalg.solve(A,loads)\n",
    "\n",
    "# Finding stresses in layer one of the laminate\n",
    "layer1 = test_layup[0]\n",
    "angle = layer1[\"ori\"]\n",
    "\n",
    "strains_local = np.matmul(T2De(angle), strains_global)\n",
    "\n",
    "\n",
    "Q = Q2D(m1)\n",
    "Q_global = Q2Dtransform(Q, angle)\n",
    "stresses_local = np.matmul(Q, strains_local)\n",
    "stresses_global = np.matmul(Q_global, strains_global)\n",
    "print(\"global strains\", strains_global)\n",
    "print(\"local strains\", strains_local)\n",
    "print(\"\")\n",
    "print(\"local stresses\", stresses_local)\n",
    "print(\"global stresses\", stresses_global)\n",
    "\n",
    "s1 = stresses_local[0]"
   ]
  },
  {
   "cell_type": "code",
   "execution_count": null,
   "id": "57aa509a",
   "metadata": {},
   "outputs": [],
   "source": [
    "# Case from website, glass fiber composite\n",
    "\n",
    "def evaluate_case(mat, layup)\n",
    "\n",
    "def max_stress(theta):\n",
    "    m1=matlib.get('E-glass/Epoxy')\n",
    "    test_layup1 = [{'mat':m1, 'ori':-45, 'thi':1.0},\n",
    "                  {'mat':m1, 'ori':+45, 'thi':1.0}]\n",
    "    test_layup2 = [{'mat':m1, 'ori':0, 'thi':1.0},\n",
    "                  {'mat':m1, 'ori':0, 'thi':1.0}]\n",
    "    var_layup = [{'mat':m1, 'ori': theta, 'thi':1.0},\n",
    "                  {'mat':m1, 'ori': -theta, 'thi':1.0}]\n",
    "\n",
    "    A = computeA(var_layup)\n",
    "    R, P = 100, 2\n",
    "\n",
    "    Nx=P*R/2\n",
    "    Ny=P*R\n",
    "    Nxy=0\n",
    "    loads=[Nx,Ny,Nxy]\n",
    "    strains_global=np.linalg.solve(A,loads)\n",
    "\n",
    "    # Finding stresses in layer one of the laminate\n",
    "    layer1 = test_layup[0]\n",
    "    angle = layer1[\"ori\"]\n",
    "\n",
    "    strains_local = np.matmul(T2De(angle), strains_global)\n",
    "\n",
    "\n",
    "    Q = Q2D(m1)\n",
    "    Q_global = Q2Dtransform(Q, angle)\n",
    "    stresses_local = np.matmul(Q, strains_local)\n",
    "    stresses_global = np.matmul(Q_global, strains_global)\n",
    "    #print(\"global strains\", strains_global)\n",
    "    #print(\"local strains\", strains_local)\n",
    "    #print(\"\")\n",
    "    #print(\"local stresses\", stresses_local)\n",
    "    #print(\"global stresses\", stresses_global)\n",
    "\n",
    "    s1 = stresses_local[0]\n",
    "    return s1\n",
    "thetas = np.arange(0,90, 1)\n",
    "s1 = [max_stress(theta) for theta in thetas]\n",
    "plt.plot(thetas, s1)"
   ]
  },
  {
   "cell_type": "code",
   "execution_count": null,
   "id": "943d08ee",
   "metadata": {},
   "outputs": [],
   "source": [
    "# testings\n",
    "\n",
    "m1 = oppg_materiale\n",
    "test_layup1 = [{'mat':m1, 'ori':-45, 'thi':1.0},\n",
    "              {'mat':m1, 'ori':+45, 'thi':1.0}]\n",
    "\n",
    "test_layup2 = [{'mat':m1, 'ori':30, 'thi':0.75},\n",
    "              {'mat':m1, 'ori':-30, 'thi':0.75},\n",
    "              {'mat':m1, 'ori': 45, 'thi':0.75},\n",
    "              {'mat':m1, 'ori':-45, 'thi':0.75},]\n",
    "\n",
    "used_layup = test_layup2\n",
    "chosen_layer = 1\n",
    "A = computeA(test_layup2)\n",
    "angle = used_layup[chosen_layer][\"ori\"]\n",
    "\n",
    "print(A)\n",
    "R, P = 75, 8\n",
    "\n",
    "Nx=P*R/2\n",
    "Ny=P*R\n",
    "Nxy=0\n",
    "loads=[Nx,Ny,Nxy]\n",
    "print(\"loads\", loads)\n",
    "strains_global=np.linalg.solve(A,loads)\n",
    "\n",
    "# Finding stresses in layer one of the laminate\n",
    "layer1 = test_layup[chosen_layer]\n",
    "\n",
    "strains_local = np.matmul(T2De(angle), strains_global)\n",
    "\n",
    "Q = Q2D(m1)\n",
    "print(\"Q\", Q)\n",
    "Q_global = Q2Dtransform(Q, angle)\n",
    "stresses_local = np.matmul(Q, strains_local)\n",
    "stresses_global = np.matmul(Q_global, strains_global)\n",
    "print(\"global strains\", strains_global)\n",
    "print(\"local strains\", strains_local)\n",
    "print(\"\")\n",
    "print(\"local stresses\", stresses_local)\n",
    "#print(\"global stresses\", stresses_global)\n",
    "\n",
    "s1 = stresses_local[0]"
   ]
  },
  {
   "cell_type": "code",
   "execution_count": null,
   "id": "8cfef189",
   "metadata": {},
   "outputs": [],
   "source": [
    "# Case 1 layup A\n",
    "\n",
    "R, P = 75, 8\n",
    "Nx=P*R/2\n",
    "Ny=P*R\n",
    "Nxy=0\n",
    "\n",
    "m = oppg_materiale\n",
    "ff_fE_list = []\n",
    "iff_fE_list = []\n",
    "thetas = list(range(11, 88))\n",
    "for theta in thetas:\n",
    "\n",
    "    layupA = [{'mat':m, 'ori': theta, 'thi':0.5},\n",
    "              {'mat':m, 'ori': -theta, 'thi':0.5}]\n",
    "    \n",
    "    A = computeA(layupA)\n",
    "    Q = Q2D(m1)\n",
    "    \n",
    "    loads=[Nx,Ny,Nxy]\n",
    "    strains_global=np.linalg.solve(A,loads)\n",
    "\n",
    "    strains_local = np.matmul(T2De(angle), strains_global)\n",
    "    stresses_local = np.matmul(Q, strains_local)\n",
    "    s = stresses_local\n",
    "    ff_fE_list.append(ff_fE(stresses_local,m))\n",
    "    iff_fE_list.append(fE_hashin([s[0], s[1], 0, s[2], 0, 0], m))\n",
    "    #print(stresses_local[0])\n",
    "\n",
    "plt.plot(thetas, ff_fE_list)\n",
    "plt.plot(thetas, iff_fE_list)"
   ]
  },
  {
   "cell_type": "code",
   "execution_count": null,
   "id": "26e06fb2",
   "metadata": {},
   "outputs": [],
   "source": [
    "# Case 1 layup B"
   ]
  },
  {
   "cell_type": "code",
   "execution_count": 9,
   "id": "395d5d00",
   "metadata": {},
   "outputs": [
    {
     "data": {
      "text/plain": [
       "<matplotlib.legend.Legend at 0x183868707f0>"
      ]
     },
     "execution_count": 9,
     "metadata": {},
     "output_type": "execute_result"
    },
    {
     "data": {
      "image/png": "[encoded data removed]",
      "text/plain": [
       "<Figure size 432x288 with 1 Axes>"
      ]
     },
     "metadata": {
      "needs_background": "light"
     },
     "output_type": "display_data"
    }
   ],
   "source": [
    "# Case 2 layup A\n",
    "\n",
    "R, P, Fx = 75, 0, 100000\n",
    "\n",
    "\n",
    "m = oppg_materiale\n",
    "ff_fE_list = []\n",
    "iff_fE_list = []\n",
    "thetas = list(range(11, 90))\n",
    "for theta in thetas:\n",
    "\n",
    "    layupA = [{'mat':m, 'ori': theta, 'thi':0.5},\n",
    "              {'mat':m, 'ori': -theta, 'thi':0.5}]\n",
    "    t = laminateThickness(layupA)\n",
    "    Nx=Fx/(2*np.pi*R)\n",
    "    Ny=0\n",
    "    Nxy=0\n",
    "    \n",
    "    \n",
    "    A = computeA(layupA)\n",
    "    Q = Q2D(m1)\n",
    "    \n",
    "    loads=[Nx,Ny,Nxy]\n",
    "    strains_global=np.linalg.solve(A,loads)\n",
    "\n",
    "    ff_candidates = []\n",
    "    iff_fE_candidates = []\n",
    "    for layer in layupA:\n",
    "        angle = layer[\"ori\"]\n",
    "        strains = np.matmul(T2De(angle), strains_global)\n",
    "        s = np.matmul(Q, strains)\n",
    "        ff_candidates.append(ff_fE(s,m))\n",
    "        iff_fE_candidates.append(fE_hashin([s[0], s[1], 0, s[2], 0, 0], m)[1])\n",
    "        \n",
    "        \n",
    "    \n",
    "    ff_fE_list.append(max(ff_candidates))\n",
    "    iff_fE_list.append(max(iff_fE_candidates))\n",
    "    #print(stresses_local[0])\n",
    "\n",
    "plt.plot(thetas, ff_fE_list, label=\"FF\")\n",
    "plt.plot(thetas, iff_fE_list, label=\"IFF\")\n",
    "plt.legend()"
   ]
  },
  {
   "cell_type": "code",
   "execution_count": null,
   "id": "f5e9a00c",
   "metadata": {},
   "outputs": [],
   "source": [
    "# Case 2 layup B"
   ]
  },
  {
   "cell_type": "code",
   "execution_count": null,
   "id": "9765e6f1",
   "metadata": {},
   "outputs": [],
   "source": [
    "# Case 3 layup A"
   ]
  },
  {
   "cell_type": "code",
   "execution_count": null,
   "id": "c8e2a46a",
   "metadata": {},
   "outputs": [],
   "source": [
    "# Case 3 layup B"
   ]
  },
  {
   "cell_type": "code",
   "execution_count": null,
   "id": "00e9ef91",
   "metadata": {},
   "outputs": [],
   "source": [
    "# Case 4 layup A"
   ]
  },
  {
   "cell_type": "code",
   "execution_count": null,
   "id": "1ff51603",
   "metadata": {},
   "outputs": [],
   "source": [
    "# Case 4 layup B"
   ]
  },
  {
   "cell_type": "code",
   "execution_count": null,
   "id": "4bec6e4e",
   "metadata": {},
   "outputs": [],
   "source": [
    "# Case 5 layup A"
   ]
  },
  {
   "cell_type": "code",
   "execution_count": null,
   "id": "a05a7098",
   "metadata": {},
   "outputs": [],
   "source": [
    "# Case 5 layup B"
   ]
  },
  {
   "cell_type": "code",
   "execution_count": null,
   "id": "9e87d1e2",
   "metadata": {},
   "outputs": [],
   "source": []
  }
 ],
 "metadata": {
  "kernelspec": {
   "display_name": "Python 3 (ipykernel)",
   "language": "python",
   "name": "python3"
  },
  "language_info": {
   "codemirror_mode": {
    "name": "ipython",
    "version": 3
   },
   "file_extension": ".py",
   "mimetype": "text/x-python",
   "name": "python",
   "nbconvert_exporter": "python",
   "pygments_lexer": "ipython3",
   "version": "3.9.7"
  }
 },
 "nbformat": 4,
 "nbformat_minor": 5
}
