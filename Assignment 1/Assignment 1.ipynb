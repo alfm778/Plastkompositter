{
 "cells": [
  {
   "cell_type": "code",
   "execution_count": 1,
   "id": "ea912b23",
   "metadata": {},
   "outputs": [],
   "source": [
    "import numpy as np\n",
    "import matplotlib.pyplot as plt"
   ]
  },
  {
   "cell_type": "code",
   "execution_count": 2,
   "id": "9004354d",
   "metadata": {},
   "outputs": [],
   "source": [
    "# Materials\n",
    "# matlib.py\n",
    "\n",
    "materials=[]\n",
    "\n",
    "materials.append( {\"name\": \"E-glass/Epoxy\", \"units\": \"MPa-mm-Mg\", \"type\": \"UD\", \"fiber\": \"E-glass\",\n",
    "     \"Vf\": 0.55, \"rho\": 2000E-12,\n",
    "     \"description\": \"Typical UD E-glass/Epoxy from TMM4175\",  \n",
    "     \"E1\": 40000, \"E2\": 10000, \"E3\": 10000, \n",
    "     \"v12\": 0.3, \"v13\": 0.3, \"v23\": 0.4, \n",
    "     \"G12\": 3800, \"G13\": 3800, \"G23\": 3400, \n",
    "     \"a1\": 7e-06, \"a2\": 2.2e-05, \"a3\": 2.2e-05, \n",
    "     \"XT\": 1000, \"YT\": 40, \"ZT\": 40,\n",
    "     \"XC\": 700, \"YC\": 120, \"ZC\": 120,\n",
    "     \"S12\": 70, \"S13\": 70, \"S23\": 40,\n",
    "     \"f12\":-0.5, \"f13\":-0.5, \"f23\":-0.5} )\n",
    "\n",
    "materials.append( {\"name\": \"S-glass/Epoxy\", \"units\": \"MPa-mm-Mg\", \"type\": \"UD\", \"fiber\": \"S-glass\",\n",
    "     \"Vf\": 0.55, \"rho\": 2000E-12,\n",
    "     \"description\": \"Typical UD S-glass/Epoxy from TMM4175\",  \n",
    "     \"E1\": 48000, \"E2\": 11000, \"E3\": 11000, \n",
    "     \"v12\": 0.3, \"v13\": 0.3, \"v23\": 0.4, \n",
    "     \"G12\": 4200, \"G13\": 4200, \"G23\": 3600, \n",
    "     \"a1\": 4e-06, \"a2\": 2.0e-05, \"a3\": 2.0e-05, \n",
    "     \"XT\": 1300, \"YT\": 40, \"ZT\": 40,\n",
    "     \"XC\": 800, \"YC\": 140, \"ZC\": 140,\n",
    "     \"S12\": 70, \"S13\": 70, \"S23\": 40,\n",
    "     \"f12\":-0.5, \"f13\":-0.5, \"f23\":-0.5} )\n",
    "\n",
    "materials.append( {\"name\": \"Kevlar-49/Epoxy\", \"units\": \"MPa-mm-Mg\", \"type\": \"UD\", \"fiber\": \"Kevlar-49\",\n",
    "     \"Vf\": 0.55, \"rho\": 1400E-12,\n",
    "     \"description\": \"Typical UD Kevlar-49/Epoxy from TMM4175\",  \n",
    "     \"E1\": 73000, \"E2\": 5000, \"E3\": 5000, \n",
    "     \"v12\": 0.35, \"v13\": 0.35, \"v23\": 0.45, \n",
    "     \"G12\": 2200, \"G13\": 2200, \"G23\": 1700, \n",
    "     \"a1\": -1e-06, \"a2\": 5.0e-05, \"a3\": 5.0e-05, \n",
    "     \"XT\": 1400, \"YT\": 20, \"ZT\": 20,\n",
    "     \"XC\": 300, \"YC\": 120, \"ZC\": 120,\n",
    "     \"S12\": 40, \"S13\": 40, \"S23\": 20,\n",
    "     \"f12\":-0.5, \"f13\":-0.5, \"f23\":-0.5} )\n",
    "\n",
    "materials.append( {\"name\": \"Carbon/Epoxy(a)\", \"units\": \"MPa-mm-Mg\", \"type\": \"UD\", \"fiber\": \"Carbon\",\n",
    "     \"Vf\": 0.55, \"rho\": 1600E-12,\n",
    "     \"description\": \"Typical low modulus carbon/Epoxy from TMM4175\",  \n",
    "     \"E1\": 130000, \"E2\": 10000, \"E3\": 10000, \n",
    "     \"v12\": 0.28, \"v13\": 0.28, \"v23\": 0.5, \n",
    "     \"G12\": 4500, \"G13\": 4500, \"G23\": 3500, \n",
    "     \"a1\": -0.5e-06, \"a2\": 3.0e-05, \"a3\": 3.0e-05, \n",
    "     \"XT\": 1800, \"YT\": 40, \"ZT\": 40,\n",
    "     \"XC\": 1200, \"YC\": 180, \"ZC\": 180,\n",
    "     \"S12\": 70, \"S13\": 70, \"S23\": 40,\n",
    "     \"f12\":-0.5, \"f13\":-0.5, \"f23\":-0.5} )\n",
    "\n",
    "materials.append( {\"name\": \"Carbon/Epoxy(b)\", \"units\": \"MPa-mm-Mg\", \"type\": \"UD\", \"fiber\": \"Carbon\",\n",
    "     \"Vf\": 0.55, \"rho\": 1700E-12,\n",
    "     \"description\": \"Typical high modulus carbon/Epoxy from TMM4175\",  \n",
    "     \"E1\": 330000, \"E2\": 8000, \"E3\": 8000, \n",
    "     \"v12\": 0.28, \"v13\": 0.28, \"v23\": 0.5, \n",
    "     \"G12\": 4000, \"G13\": 4000, \"G23\": 2700, \n",
    "     \"a1\": -0.7e-06, \"a2\": 3.0e-05, \"a3\": 3.0e-05, \n",
    "     \"XT\": 1000, \"YT\": 40, \"ZT\": 40,\n",
    "     \"XC\": 800, \"YC\": 100, \"ZC\": 100,\n",
    "     \"S12\": 70, \"S13\": 70, \"S23\": 40,\n",
    "     \"f12\":-0.5, \"f13\":-0.5, \"f23\":-0.5})\n",
    "materials.append({\"name\": \"Construction steel\", \"Vf\": 1, \"rho\": 7780E-12, \n",
    "                 \"E1\": 210000,\n",
    "                  \"XT\": 1200})\n",
    "\n",
    "def get(matname):\n",
    "    for m in materials:\n",
    "        if m['name']==matname:\n",
    "            return m\n",
    "    return False\n",
    "\n",
    "def printlist():\n",
    "    for m in materials:\n",
    "        print(m['name'])\n",
    "        \n",
    "def newMaterial(**kwargs):\n",
    "    m={}\n",
    "    for key in kwargs:\n",
    "        m.update({key:kwargs[key]})\n",
    "    return m"
   ]
  },
  {
   "cell_type": "code",
   "execution_count": 3,
   "id": "f13021e7",
   "metadata": {},
   "outputs": [],
   "source": [
    "# Functions\n",
    "def energy_calc(stress, E_mod, density):\n",
    "    c = 1/2\n",
    "    return c*stress**2/(E_mod*density)"
   ]
  },
  {
   "cell_type": "code",
   "execution_count": 6,
   "id": "601e2736",
   "metadata": {},
   "outputs": [
    {
     "name": "stdout",
     "output_type": "stream",
     "text": [
      "Specific energy density E-glass/Epoxy 7836.99 J\n",
      "Energy density E-glass/Epoxy 12500.00 J\n",
      "Specific energy density S-glass/Epoxy 11037.10 J\n",
      "Energy density S-glass/Epoxy 17604.17 J\n",
      "Specific energy density Kevlar-49/Epoxy 10612.38 J\n",
      "Energy density Kevlar-49/Epoxy 13424.66 J\n",
      "Specific energy density Carbon/Epoxy(a) 9062.94 J\n",
      "Energy density Carbon/Epoxy(a) 12461.54 J\n",
      "Specific energy density Carbon/Epoxy(b) 1059.55 J\n",
      "Energy density Carbon/Epoxy(b) 1515.15 J\n",
      "Specific energy density Construction steel 440.69 J\n",
      "Energy density Construction steel 3428.57 J\n"
     ]
    },
    {
     "data": {
      "text/plain": [
       "Text(0.5, 1.0, 'Specific Energy J/kg')"
      ]
     },
     "execution_count": 6,
     "metadata": {},
     "output_type": "execute_result"
    },
    {
     "data": {
      "image/png": "[encoded data removed]",
      "text/plain": [
       "<Figure size 432x288 with 1 Axes>"
      ]
     },
     "metadata": {
      "needs_background": "light"
     },
     "output_type": "display_data"
    }
   ],
   "source": [
    "x = list(range(5))\n",
    "energies = []\n",
    "energies_ignoring_density = []\n",
    "labels = []\n",
    "for i, material in enumerate(materials[:]):\n",
    "    max_stress = material[\"XT\"]\n",
    "    E = material[\"E1\"]\n",
    "    mat_fraction = material[\"Vf\"]\n",
    "    mat_density = material[\"rho\"]*1e9\n",
    "    label = material[\"name\"]\n",
    "    epoxy_density = 1.1\n",
    "    total_density = mat_fraction*mat_density + (1-mat_fraction)*epoxy_density\n",
    "    specific_energy = energy_calc(max_stress, E, total_density/1000)\n",
    "    energy_density = energy_calc(max_stress, E, 1/1000)\n",
    "    \n",
    "    print(\"Specific energy density\", label, \"{:.2f}\".format(specific_energy), \"J\")\n",
    "    print(\"Energy density\", label, \"{:.2f}\".format(energy_density), \"J\")\n",
    "    labels.append(label)\n",
    "    energies.append(specific_energy)\n",
    "    energies_ignoring_density.append(energy_density)\n",
    "    \n",
    "plt.bar(labels, energies)\n",
    "plt.xticks(rotation=20)\n",
    "\n",
    "# Chart formatting\n",
    "#plt.yticks(labels, rotation=\"vertical\")\n",
    "plt.title(\"Specific Energy J/kg\")"
   ]
  },
  {
   "cell_type": "code",
   "execution_count": 8,
   "id": "49c0b998",
   "metadata": {},
   "outputs": [
    {
     "data": {
      "text/plain": [
       "Text(0.5, 1.0, 'Energy density J/Liter')"
      ]
     },
     "execution_count": 8,
     "metadata": {},
     "output_type": "execute_result"
    },
    {
     "data": {
      "image/png": "[encoded data removed]",
      "text/plain": [
       "<Figure size 432x288 with 1 Axes>"
      ]
     },
     "metadata": {
      "needs_background": "light"
     },
     "output_type": "display_data"
    }
   ],
   "source": [
    "plt.bar(labels, energies_ignoring_density)\n",
    "plt.xticks(rotation=20)\n",
    "\n",
    "# Chart formatting\n",
    "#plt.yticks(labels, rotation=\"vertical\")\n",
    "plt.title(\"Energy density J/Liter\")"
   ]
  },
  {
   "cell_type": "code",
   "execution_count": null,
   "id": "4e4067b2",
   "metadata": {},
   "outputs": [],
   "source": []
  },
  {
   "cell_type": "code",
   "execution_count": null,
   "id": "d4d2ee3c",
   "metadata": {},
   "outputs": [],
   "source": []
  }
 ],
 "metadata": {
  "kernelspec": {
   "display_name": "Python 3 (ipykernel)",
   "language": "python",
   "name": "python3"
  },
  "language_info": {
   "codemirror_mode": {
    "name": "ipython",
    "version": 3
   },
   "file_extension": ".py",
   "mimetype": "text/x-python",
   "name": "python",
   "nbconvert_exporter": "python",
   "pygments_lexer": "ipython3",
   "version": "3.9.6"
  }
 },
 "nbformat": 4,
 "nbformat_minor": 5
}
