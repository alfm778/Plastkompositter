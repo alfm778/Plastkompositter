{
 "cells": [
  {
   "cell_type": "code",
   "execution_count": 7,
   "id": "ea912b23",
   "metadata": {},
   "outputs": [],
   "source": [
    "import numpy as np\n",
    "import matplotlib.pyplot as plt"
   ]
  },
  {
   "cell_type": "code",
   "execution_count": 189,
   "id": "9004354d",
   "metadata": {},
   "outputs": [
    {
     "name": "stdout",
     "output_type": "stream",
     "text": [
      "E 54040.0\n",
      "XC 1354.0\n",
      "rho 2.128\n"
     ]
    }
   ],
   "source": [
    "# Materials\n",
    "# matlib.py\n",
    "\n",
    "materials = []\n",
    "fibers = []\n",
    "matrix = []\n",
    "\n",
    "materials.append( {\"name\": \"E-glass/Epoxy\", \"units\": \"MPa-mm-Mg\", \"type\": \"UD\", \"fiber\": \"E-glass\",\n",
    "     \"Vf\": 0.55, \"rho\": 2000E-12,\n",
    "     \"description\": \"Typical UD E-glass/Epoxy from TMM4175\",  \n",
    "     \"E1\": 40000, \"E2\": 10000, \"E3\": 10000, \n",
    "     \"v12\": 0.3, \"v13\": 0.3, \"v23\": 0.4, \n",
    "     \"G12\": 3800, \"G13\": 3800, \"G23\": 3400, \n",
    "     \"a1\": 7e-06, \"a2\": 2.2e-05, \"a3\": 2.2e-05, \n",
    "     \"XT\": 1000, \"YT\": 40, \"ZT\": 40,\n",
    "     \"XC\": 700, \"YC\": 120, \"ZC\": 120,\n",
    "     \"S12\": 70, \"S13\": 70, \"S23\": 40,\n",
    "     \"f12\":-0.5, \"f13\":-0.5, \"f23\":-0.5} )\n",
    "\n",
    "materials.append( {\"name\": \"S-glass/Epoxy\", \"units\": \"MPa-mm-Mg\", \"type\": \"UD\", \"fiber\": \"S-glass\",\n",
    "     \"Vf\": 0.55, \"rho\": 2000E-12,\n",
    "     \"description\": \"Typical UD S-glass/Epoxy from TMM4175\",  \n",
    "     \"E1\": 48000, \"E2\": 11000, \"E3\": 11000, \n",
    "     \"v12\": 0.3, \"v13\": 0.3, \"v23\": 0.4, \n",
    "     \"G12\": 4200, \"G13\": 4200, \"G23\": 3600, \n",
    "     \"a1\": 4e-06, \"a2\": 2.0e-05, \"a3\": 2.0e-05, \n",
    "     \"XT\": 1300, \"YT\": 40, \"ZT\": 40,\n",
    "     \"XC\": 800, \"YC\": 140, \"ZC\": 140,\n",
    "     \"S12\": 70, \"S13\": 70, \"S23\": 40,\n",
    "     \"f12\":-0.5, \"f13\":-0.5, \"f23\":-0.5} )\n",
    "\n",
    "materials.append( {\"name\": \"Kevlar-49/Epoxy\", \"units\": \"MPa-mm-Mg\", \"type\": \"UD\", \"fiber\": \"Kevlar-49\",\n",
    "     \"Vf\": 0.55, \"rho\": 1400E-12,\n",
    "     \"description\": \"Typical UD Kevlar-49/Epoxy from TMM4175\",  \n",
    "     \"E1\": 73000, \"E2\": 5000, \"E3\": 5000, \n",
    "     \"v12\": 0.35, \"v13\": 0.35, \"v23\": 0.45, \n",
    "     \"G12\": 2200, \"G13\": 2200, \"G23\": 1700, \n",
    "     \"a1\": -1e-06, \"a2\": 5.0e-05, \"a3\": 5.0e-05, \n",
    "     \"XT\": 1400, \"YT\": 20, \"ZT\": 20,\n",
    "     \"XC\": 300, \"YC\": 120, \"ZC\": 120,\n",
    "     \"S12\": 40, \"S13\": 40, \"S23\": 20,\n",
    "     \"f12\":-0.5, \"f13\":-0.5, \"f23\":-0.5} )\n",
    "\n",
    "materials.append( {\"name\": \"Carbon/Epoxy(a)\", \"units\": \"MPa-mm-Mg\", \"type\": \"UD\", \"fiber\": \"Carbon\",\n",
    "     \"Vf\": 0.55, \"rho\": 1600E-12,\n",
    "     \"description\": \"Typical low modulus carbon/Epoxy from TMM4175\",  \n",
    "     \"E1\": 130000, \"E2\": 10000, \"E3\": 10000, \n",
    "     \"v12\": 0.28, \"v13\": 0.28, \"v23\": 0.5, \n",
    "     \"G12\": 4500, \"G13\": 4500, \"G23\": 3500, \n",
    "     \"a1\": -0.5e-06, \"a2\": 3.0e-05, \"a3\": 3.0e-05, \n",
    "     \"XT\": 1800, \"YT\": 40, \"ZT\": 40,\n",
    "     \"XC\": 1200, \"YC\": 180, \"ZC\": 180,\n",
    "     \"S12\": 70, \"S13\": 70, \"S23\": 40,\n",
    "     \"f12\":-0.5, \"f13\":-0.5, \"f23\":-0.5} )\n",
    "\n",
    "materials.append( {\"name\": \"Carbon/Epoxy(b)\", \"units\": \"MPa-mm-Mg\", \"type\": \"UD\", \"fiber\": \"Carbon\",\n",
    "     \"Vf\": 0.55, \"rho\": 1700E-12,\n",
    "     \"description\": \"Typical high modulus carbon/Epoxy from TMM4175\",  \n",
    "     \"E1\": 330000, \"E2\": 8000, \"E3\": 8000, \n",
    "     \"v12\": 0.28, \"v13\": 0.28, \"v23\": 0.5, \n",
    "     \"G12\": 4000, \"G13\": 4000, \"G23\": 2700, \n",
    "     \"a1\": -0.7e-06, \"a2\": 3.0e-05, \"a3\": 3.0e-05, \n",
    "     \"XT\": 1000, \"YT\": 40, \"ZT\": 40,\n",
    "     \"XC\": 800, \"YC\": 100, \"ZC\": 100,\n",
    "     \"S12\": 70, \"S13\": 70, \"S23\": 40,\n",
    "     \"f12\":-0.5, \"f13\":-0.5, \"f23\":-0.5})\n",
    "\n",
    "#materials.append({\"name\": \"Construction steel\", \"Vf\": 1, \"rho\": 7780E-12, \n",
    "#                 \"E1\": 210000,\n",
    "#                  \"XC\": 1200})\n",
    "materials.append({\"name\": \"AISI1095\", \"rho\": 7780*1e-12, \"Vf\": 1, \n",
    "                 \"E1\": 210000, \"XC\": 520})\n",
    "\n",
    "\n",
    "\n",
    "fibers.append({\"name\": \"E-Glass/max2\", \"rho\": 2.5, \"E1\": 76000, \"XC\": 1900})\n",
    "fibers.append({\"name\": \"S-Glass/max2\", \"rho\": 2.46, \"E1\": 91000, \"XC\": 2400})\n",
    "fibers.append({\"name\": \"T-300/max2\", \"rho\": 1.77, \"E1\": 230000, \"XC\": 1800})\n",
    "fibers.append({\"name\": \"T1100GC/max2\", \"rho\": 1.79, \"E1\": 324000, \"XC\": 3500})\n",
    "fibers.append({\"name\": \"Kevlar-29/max2\", \"rho\": 1.44, \"E1\": 83000, \"XC\": 1800})\n",
    "#fibers.append({\"name\": \"AISI1095/max2\", \"rho\": 7.78, \n",
    "#                 \"E1\": 210000, \"XC\": 520})\n",
    "\n",
    "matrix.append({\"name\": \"Polyurethane max2\", \"rho\": 1.26, \"E1\": 2800, \"XC\": 80})\n",
    "\n",
    "\n",
    "def get(matname):\n",
    "    for m in materials:\n",
    "        if m['name']==matname:\n",
    "            return m\n",
    "    return False\n",
    "\n",
    "def printlist():\n",
    "    for m in materials:\n",
    "        print(m['name'])\n",
    "        \n",
    "def newMaterial(**kwargs):\n",
    "    m={}\n",
    "    for key in kwargs:\n",
    "        m.update({key:kwargs[key]})\n",
    "    return m\n",
    "\n",
    "def get_composite(fiber, matrix, volumfrac):\n",
    "    XC_fiber = fiber[\"XC\"]\n",
    "    E1_fiber = fiber[\"E1\"]\n",
    "    rho_fiber = fiber[\"rho\"]\n",
    "    \n",
    "    XC_matrix = matrix[\"XC\"]\n",
    "    E1_matrix = matrix[\"E1\"]\n",
    "    rho_matrix = matrix[\"rho\"]\n",
    "    \n",
    "    E1_tot = E1_fiber*volumfrac + E1_matrix*(1-volumfrac)\n",
    "    XC_tot = XC_fiber*volumfrac + XC_matrix*(1-volumfrac)\n",
    "    rho = rho_fiber*volumfrac + rho_matrix*(1-volumfrac)\n",
    "    \n",
    "    #print(\"E\", E1_tot)\n",
    "    #print(\"XC\", XC_tot)\n",
    "    #print(\"rho\", rho)\n",
    "    \n",
    "    return {\"name\": fiber[\"name\"], \"rho\": rho*1e-12, \"XC\": XC_tot, \"E1\": E1_tot*1000, \"Vf\":volumfrac }\n",
    "    \n",
    "    \n",
    "add_material(fibers[0], matrix[0], 0.7)"
   ]
  },
  {
   "cell_type": "code",
   "execution_count": 190,
   "id": "f13021e7",
   "metadata": {},
   "outputs": [],
   "source": [
    "# Functions\n",
    "def energy_calc_midt(stress, E_mod, density):\n",
    "    c = 1/18\n",
    "    return c*stress**2/(E_mod*density)\n",
    "def energy_calc_mom(stress, E_mod, density):\n",
    "    c = 1/4\n",
    "    return c*stress**2/(E_mod*density)"
   ]
  },
  {
   "cell_type": "code",
   "execution_count": 207,
   "id": "601e2736",
   "metadata": {},
   "outputs": [
    {
     "name": "stdout",
     "output_type": "stream",
     "text": [
      "Specific energy density E-glass/Epoxy 1531.25 J\n",
      "Specific energy density S-glass/Epoxy 1666.67 J\n",
      "Specific energy density Kevlar-49/Epoxy 220.16 J\n",
      "Specific energy density Carbon/Epoxy(a) 1730.77 J\n",
      "Specific energy density Carbon/Epoxy(b) 285.20 J\n",
      "Specific energy density AISI1095 41.38 J\n"
     ]
    },
    {
     "data": {
      "image/png": "[encoded data removed]",
      "text/plain": [
       "<Figure size 864x576 with 1 Axes>"
      ]
     },
     "metadata": {
      "needs_background": "light"
     },
     "output_type": "display_data"
    }
   ],
   "source": [
    "x = list(range(5))\n",
    "energies = []\n",
    "energies_ignoring_density = []\n",
    "labels = []\n",
    "\n",
    "# adding the other materials into the new\n",
    "chosen_matrix = matrix[0]\n",
    "custom_materials = []\n",
    "for fiber in fibers:\n",
    "    custom_materials.append(get_composite(fiber, chosen_matrix, 0.7))\n",
    "    #print(get_composite(fiber, chosen_matrix, 0.55))\n",
    "\n",
    "\n",
    "for i, material in enumerate(materials):\n",
    "    max_stress = material[\"XC\"]\n",
    "    E = material[\"E1\"]\n",
    "    mat_fraction = material[\"Vf\"]\n",
    "    mat_density = material[\"rho\"]*1e9\n",
    "    label = material[\"name\"]\n",
    "\n",
    "    specific_energy = energy_calc_mom(max_stress, E, mat_density/1000)\n",
    "    energy_density = energy_calc_mom(max_stress, E, 1/1000)\n",
    "    \n",
    "    print(\"Specific energy density\", label, \"{:.2f}\".format(specific_energy), \"J\")\n",
    "    #print(\"Energy density\", label, \"{:.2f}\".format(energy_density), \"J\")\n",
    "    labels.append(label)\n",
    "    energies.append(specific_energy)\n",
    "    energies_ignoring_density.append(energy_density)\n",
    "    \n",
    "    \n",
    "plt.figure(figsize=(12,8))\n",
    "plt.bar(labels, energies)\n",
    "plt.xticks(rotation=20)\n",
    "\n",
    "# Chart formatting\n",
    "#plt.yticks(labels, rotation=\"vertical\")\n",
    "#plt.title(\"Specific Energy J/kg\")\n",
    "\n",
    "plt.ylabel(\"Specific strain energy [J/kg]\")\n",
    "plt.savefig(\"course_mat_energy.png\")"
   ]
  },
  {
   "cell_type": "code",
   "execution_count": 226,
   "id": "4e4067b2",
   "metadata": {},
   "outputs": [
    {
     "name": "stdout",
     "output_type": "stream",
     "text": [
      "Specific energy density E-Glass/max2 3985.57 J\n",
      "Specific energy density S-Glass/max2 5355.88 J\n",
      "Specific energy density T-300/max2 1574.98 J\n",
      "Specific energy density T1100GC/max2 4121.32 J\n",
      "Specific energy density Kevlar-29/max2 5045.41 J\n"
     ]
    },
    {
     "data": {
      "image/png": "[encoded data removed]",
      "text/plain": [
       "<Figure size 864x576 with 1 Axes>"
      ]
     },
     "metadata": {
      "needs_background": "light"
     },
     "output_type": "display_data"
    }
   ],
   "source": [
    "x = list(range(5))\n",
    "energies = []\n",
    "energies_ignoring_density = []\n",
    "labels = []\n",
    "\n",
    "# adding the other materials into the new\n",
    "chosen_matrix = matrix[0]\n",
    "custom_materials = []\n",
    "for fiber in fibers:\n",
    "    custom_materials.append(get_composite(fiber, chosen_matrix, 0.7))\n",
    "    #print(get_composite(fiber, chosen_matrix, 0.55))\n",
    "\n",
    "\n",
    "for i, material in enumerate(custom_materials):\n",
    "    max_stress = material[\"XC\"]\n",
    "    E = material[\"E1\"]\n",
    "    mat_fraction = material[\"Vf\"]\n",
    "    mat_density = material[\"rho\"]*1e9\n",
    "    label = material[\"name\"]\n",
    "    if label == \"S-Glass/max2\":\n",
    "        pass\n",
    "        \n",
    "    specific_energy = energy_calc_mom(max_stress, E, mat_density/1000)\n",
    "    energy_density = energy_calc_midt(max_stress, E, 1/1000)\n",
    "    \n",
    "    print(\"Specific energy density\", label, \"{:.2f}\".format(specific_energy), \"J\")\n",
    "    #print(\"Energy density\", label, \"{:.2f}\".format(energy_density), \"J\")\n",
    "    labels.append(label)\n",
    "    energies.append(specific_energy)\n",
    "    energies_ignoring_density.append(energy_density)\n",
    "    \n",
    "    \n",
    "plt.figure(figsize=(12,8))\n",
    "plt.bar(labels, energies) #, color=[\"blue\", \"gold\", \"blue\", \"orange\", \"silver\"])\n",
    "plt.xticks(rotation=20)\n",
    "\n",
    "# Chart formatting\n",
    "#plt.yticks(labels, rotation=\"vertical\")\n",
    "#plt.title(\"Specific Energy J/kg\")\n",
    "\n",
    "plt.ylabel(\"Specific strain energy [J/kg]\")\n",
    "plt.savefig(\"custom_material_energy.png\")"
   ]
  },
  {
   "cell_type": "code",
   "execution_count": 199,
   "id": "d4d2ee3c",
   "metadata": {},
   "outputs": [
    {
     "name": "stdout",
     "output_type": "stream",
     "text": [
      "E-glass/Epoxy  &  40000  &  700 & 2.0  &  0.55 \\\\\n",
      "\\hline\n",
      "S-glass/Epoxy  &  48000  &  800 & 2.0  &  0.55 \\\\\n",
      "\\hline\n",
      "Kevlar-49/Epoxy  &  73000  &  300 & 1.4  &  0.55 \\\\\n",
      "\\hline\n",
      "Carbon/Epoxy(a)  &  130000  &  1200 & 1.6  &  0.55 \\\\\n",
      "\\hline\n",
      "Carbon/Epoxy(b)  &  330000  &  800 & 1.7  &  0.55 \\\\\n",
      "\\hline\n",
      "AISI1095  &  210000  &  520 & 7.779999999999999  &  0.55 \\\\\n",
      "\\hline\n"
     ]
    }
   ],
   "source": [
    "for i, material in enumerate(materials):\n",
    "    max_stress = material[\"XC\"]\n",
    "    E = material[\"E1\"]\n",
    "    mat_fraction = material[\"Vf\"]\n",
    "    mat_density = material[\"rho\"]*1e9\n",
    "    label = material[\"name\"]\n",
    "\n",
    "    specific_energy = energy_calc_midt(max_stress, E, mat_density/1000)\n",
    "    energy_density = energy_calc_midt(max_stress, E, 1/1000)\n",
    "    \n",
    "    #print(\"Specific energy density\", label, \"{:.2f}\".format(specific_energy), \"J\")\n",
    "    #print(\"Energy density\", label, \"{:.2f}\".format(energy_density), \"J\")\n",
    "    print(label, \" & \", E, \" & \", max_stress, \"&\",  mat_density, \" & \", \"0.55\",  \"\\\\\\\\\")\n",
    "    print(\"\\hline\")"
   ]
  },
  {
   "cell_type": "code",
   "execution_count": 200,
   "id": "0566ff43",
   "metadata": {},
   "outputs": [
    {
     "name": "stdout",
     "output_type": "stream",
     "text": [
      "E-Glass/max2  &  54040  &  1354.0 & 2.13 0.7 \\\\\n",
      "\\hline\n",
      "S-Glass/max2  &  64540  &  1704.0 & 2.10 0.7 \\\\\n",
      "\\hline\n",
      "T-300/max2  &  161840  &  1284.0 & 1.62 0.7 \\\\\n",
      "\\hline\n",
      "T1100GC/max2  &  227640  &  2474.0 & 1.63 0.7 \\\\\n",
      "\\hline\n",
      "Kevlar-29/max2  &  58940  &  1284.0 & 1.39 0.7 \\\\\n",
      "\\hline\n"
     ]
    }
   ],
   "source": [
    "for i, material in enumerate(custom_materials):\n",
    "    max_stress = material[\"XC\"]\n",
    "    E = material[\"E1\"]\n",
    "    mat_fraction = material[\"Vf\"]\n",
    "    mat_density = material[\"rho\"]*1e9\n",
    "    label = material[\"name\"]\n",
    "\n",
    "    specific_energy = energy_calc_midt(max_stress, E, mat_density/1000)\n",
    "    energy_density = energy_calc_midt(max_stress, E, 1/1000)\n",
    "    \n",
    "    #print(\"Specific energy density\", label, \"{:.2f}\".format(specific_energy), \"J\")\n",
    "    #print(\"Energy density\", label, \"{:.2f}\".format(energy_density), \"J\")\n",
    "    print(label, \" & \", \"{:.0f}\".format(E/1000), \" & \", max_stress, \"&\",  \"{:.2f}\".format(mat_density*1000), \"0.7\", \"\\\\\\\\\")\n",
    "    print(\"\\hline\")"
   ]
  },
  {
   "cell_type": "code",
   "execution_count": 159,
   "id": "6404ca07",
   "metadata": {},
   "outputs": [
    {
     "name": "stdout",
     "output_type": "stream",
     "text": [
      "E-Glass  &  76  &  1900 & 2.50 0.7 \\\\\n",
      "\\hline\n",
      "S-Glass  &  91  &  2400 & 2.46 0.7 \\\\\n",
      "\\hline\n",
      "T-300  &  230  &  1800 & 1.77 0.7 \\\\\n",
      "\\hline\n",
      "T1100GC  &  324  &  3500 & 1.79 0.7 \\\\\n",
      "\\hline\n",
      "Kevlar-29  &  83  &  1800 & 1.44 0.7 \\\\\n",
      "\\hline\n",
      "AISI1095  &  210  &  520 & 7.78 0.7 \\\\\n",
      "\\hline\n"
     ]
    }
   ],
   "source": [
    "for i, material in enumerate(fibers):\n",
    "    max_stress = material[\"XC\"]\n",
    "    E = material[\"E1\"]\n",
    "#    mat_fraction = material[\"Vf\"]\n",
    "    mat_density = material[\"rho\"]\n",
    "    label = material[\"name\"]\n",
    "\n",
    "    specific_energy = energy_calc_midt(max_stress, E, mat_density/1000)\n",
    "    energy_density = energy_calc_midt(max_stress, E, 1/1000)\n",
    "    \n",
    "    #print(\"Specific energy density\", label, \"{:.2f}\".format(specific_energy), \"J\")\n",
    "    #print(\"Energy density\", label, \"{:.2f}\".format(energy_density), \"J\")\n",
    "    print(label[:-5], \" & \", \"{:.0f}\".format(E/1000), \" & \", max_stress, \"&\",  \"{:.2f}\".format(mat_density), \"0.7\", \"\\\\\\\\\")\n",
    "    print(\"\\hline\")"
   ]
  },
  {
   "cell_type": "code",
   "execution_count": 160,
   "id": "5f709743",
   "metadata": {},
   "outputs": [],
   "source": [
    "labels = [f[\"name\"] for f in fibers]\n",
    "stiffnesses = [f[\"E1\"] for f in fibers]\n",
    "strength = [f[\"XC\"] for f in fibers]"
   ]
  },
  {
   "cell_type": "code",
   "execution_count": 227,
   "id": "24098151",
   "metadata": {},
   "outputs": [
    {
     "data": {
      "image/png": "[encoded data removed]",
      "text/plain": [
       "<Figure size 504x504 with 1 Axes>"
      ]
     },
     "metadata": {
      "needs_background": "light"
     },
     "output_type": "display_data"
    }
   ],
   "source": [
    "plt.figure(figsize=(7,7))\n",
    "\n",
    "for fiber in fibers:\n",
    "    plt.scatter(fiber[\"E1\"]/1000, fiber[\"XC\"]/fiber[\"rho\"], label=fiber[\"name\"][:-5])\n",
    "plt.xlabel(\"E1 [GPa]\")\n",
    "plt.ylabel(\"Adjusted compressive strength [MPa($cm^3/g$)]\")\n",
    "#plt.title(\"Specific compressive strength vs. stiffness\")\n",
    "plt.legend()\n",
    "plt.savefig(\"specific_comp_str_vs_stiffness.png\")"
   ]
  },
  {
   "cell_type": "code",
   "execution_count": null,
   "id": "cc8d425f",
   "metadata": {},
   "outputs": [],
   "source": []
  }
 ],
 "metadata": {
  "kernelspec": {
   "display_name": "Python 3 (ipykernel)",
   "language": "python",
   "name": "python3"
  },
  "language_info": {
   "codemirror_mode": {
    "name": "ipython",
    "version": 3
   },
   "file_extension": ".py",
   "mimetype": "text/x-python",
   "name": "python",
   "nbconvert_exporter": "python",
   "pygments_lexer": "ipython3",
   "version": "3.9.7"
  }
 },
 "nbformat": 4,
 "nbformat_minor": 5
}
